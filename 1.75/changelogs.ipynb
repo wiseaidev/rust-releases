{
 "cells": [
  {
   "cell_type": "markdown",
   "id": "5d8c4f1d-4957-40f7-862a-6a37b7da2935",
   "metadata": {},
   "source": [
    "## Google Colab Rust Setup\n",
    "\n",
    "The following cell is used to set up and spin up a Jupyter Notebook environment with a Rust kernel using Nix and IPC Proxy."
   ]
  },
  {
   "cell_type": "code",
   "execution_count": null,
   "id": "f59f4b1c-eba8-489a-8aca-e3bbb5854a04",
   "metadata": {},
   "outputs": [],
   "source": [
    "!wget -qO- https://gist.github.com/wiseaidev/2af6bef753d48565d11bcd478728c979/archive/3f6df40db09f3517ade41997b541b81f0976c12e.tar.gz | tar xvz --strip-components=1\n",
    "!bash setup_evcxr_kernel.sh"
   ]
  },
  {
   "cell_type": "markdown",
   "id": "485f72c2-3c69-4ffb-8f74-9a98755745ff",
   "metadata": {},
   "source": [
    "## 1. Async Traits\n",
    "### A. Rust Version < v1.75.0 (e.g. 1.74.0)"
   ]
  },
  {
   "cell_type": "code",
   "execution_count": 2,
   "id": "336325d0-76d9-4187-a37c-378f8221e55f",
   "metadata": {},
   "outputs": [],
   "source": [
    ":dep tokio = { version = \"1.35.1\", features = [\"full\"] }"
   ]
  },
  {
   "cell_type": "code",
   "execution_count": 3,
   "id": "81290d34-e795-49df-9361-1eae8c22a964",
   "metadata": {},
   "outputs": [],
   "source": [
    ":dep futures = { version = \"0.3.30\" }"
   ]
  },
  {
   "cell_type": "code",
   "execution_count": 4,
   "id": "87ffff66-2e15-46ca-a6ae-0a9cee36e510",
   "metadata": {},
   "outputs": [],
   "source": [
    ":dep async-trait = { version = \"0.1.77\" }"
   ]
  },
  {
   "cell_type": "markdown",
   "id": "d8518228-60a0-47ef-a34b-fc5a8614560d",
   "metadata": {},
   "source": [
    "#### 1.1 Using `async-trait`"
   ]
  },
  {
   "cell_type": "code",
   "execution_count": 5,
   "id": "6289f020-852f-4541-b26e-9d39b78eb8ce",
   "metadata": {},
   "outputs": [
    {
     "data": {
      "text/plain": [
       "42"
      ]
     },
     "execution_count": 5,
     "metadata": {},
     "output_type": "execute_result"
    }
   ],
   "source": [
    "use async_trait::async_trait;\n",
    "\n",
    "// Define an async trait\n",
    "#[async_trait]\n",
    "trait MyAsyncTrait {\n",
    "    async fn async_method(&self) -> i32;\n",
    "}\n",
    "\n",
    "// Implement the async trait\n",
    "struct MyStruct;\n",
    "\n",
    "#[async_trait]\n",
    "impl MyAsyncTrait for MyStruct {\n",
    "    async fn async_method(&self) -> i32 {\n",
    "        // Asynchronous logic goes here\n",
    "        42\n",
    "    }\n",
    "}\n",
    "\n",
    "let my_struct = MyStruct;\n",
    "\n",
    "let result = my_struct.async_method().await;\n",
    "\n",
    "result"
   ]
  },
  {
   "cell_type": "markdown",
   "id": "dc717802-fc12-48cc-8db8-c09d7634279b",
   "metadata": {},
   "source": [
    "#### 1.12 Using Futures"
   ]
  },
  {
   "cell_type": "code",
   "execution_count": 9,
   "id": "6e09385b-0656-4244-8fcf-4ede7f8d9964",
   "metadata": {},
   "outputs": [
    {
     "name": "stdout",
     "output_type": "stream",
     "text": [
      "Result: 42\n"
     ]
    },
    {
     "data": {
      "text/plain": [
       "()"
      ]
     },
     "execution_count": 9,
     "metadata": {},
     "output_type": "execute_result"
    }
   ],
   "source": [
    "use std::pin::Pin\n",
    "use futures::Future;\n",
    "\n",
    "// Define an async trait\n",
    "trait MyAsyncTrait {\n",
    "    fn async_method(&self) -> Pin<Box<dyn Future<Output = i32>>>;\n",
    "}\n",
    "\n",
    "// Implement the async trait\n",
    "struct MyStruct;\n",
    "\n",
    "impl MyAsyncTrait for MyStruct {\n",
    "    fn async_method(&self) -> Pin<Box<dyn Future<Output = i32>>> {\n",
    "        Box::pin(async { 42 })\n",
    "    }\n",
    "}\n",
    "\n",
    "\n",
    "let my_struct = MyStruct;\n",
    "\n",
    "let result = my_struct.async_method().await;\n",
    "\n",
    "result"
   ]
  },
  {
   "cell_type": "markdown",
   "id": "63c9bd28-f2a1-4b84-b42f-aa00a0a144a4",
   "metadata": {},
   "source": [
    "### B. Rust v1.75.0"
   ]
  },
  {
   "cell_type": "code",
   "execution_count": 6,
   "id": "5054a54e-7c3c-4f5d-b807-c91931bf61f5",
   "metadata": {},
   "outputs": [
    {
     "data": {
      "text/plain": [
       "42"
      ]
     },
     "execution_count": 6,
     "metadata": {},
     "output_type": "execute_result"
    }
   ],
   "source": [
    "// Define an async trait\n",
    "trait MyAsyncTrait {\n",
    "    async fn method(&self) -> i32;\n",
    "}\n",
    "\n",
    "// Implement the async trait\n",
    "struct MyStruct;\n",
    "\n",
    "impl MyAsyncTrait for MyStruct {\n",
    "    async fn method(&self) -> i32 {\n",
    "        42\n",
    "    }\n",
    "}\n",
    "\n",
    "let my_struct = MyStruct;\n",
    "\n",
    "let result = my_struct.method().await;\n",
    "\n",
    "result"
   ]
  },
  {
   "cell_type": "markdown",
   "id": "0601f3d1-f239-4cf2-acf6-e065597e437b",
   "metadata": {},
   "source": [
    "Prior to this version, e.g. **1.74.0**, the compiler would complain about the following:\n",
    "\n",
    "```sh\n",
    "error[E0706]: functions in traits cannot be declared `async`\n",
    "  |\n",
    "3 |     async fn method(&self) -> i32;\n",
    "  |     -----^^^^^^^^^^^^^^^^^^^^^^^^^\n",
    "  |     |\n",
    "  |     `async` because of this\n",
    "  |\n",
    "  = note: `async` trait functions are not currently supported\n",
    "  = note: consider using the `async-trait` crate: https://crates.io/crates/async-trait\n",
    "  = note: see issue #91611 <https://github.com/rust-lang/rust/issues/91611> for more information\n",
    "\n",
    "error[E0706]: functions in traits cannot be declared `async`\n",
    "   |\n",
    "10 |     async fn method(&self) -> i32 {\n",
    "   |     -----^^^^^^^^^^^^^^^^^^^^^^^^\n",
    "   |     |\n",
    "   |     `async` because of this\n",
    "   |\n",
    "   = note: `async` trait functions are not currently supported\n",
    "   = note: consider using the `async-trait` crate: https://crates.io/crates/async-trait\n",
    "   = note: see issue #91611 <https://github.com/rust-lang/rust/issues/91611> for more information\n",
    "\n",
    "For more information about this error, try `rustc --explain E0706`.\n",
    "error: could not compile `file` (bin \"file\") due to 2 previous errors\n",
    "```"
   ]
  },
  {
   "cell_type": "markdown",
   "id": "409fc0f0-f8bd-43d3-91dc-39b179a8db3f",
   "metadata": {},
   "source": [
    "---"
   ]
  },
  {
   "cell_type": "markdown",
   "id": "e020c1b4-73af-4b09-a4ec-11bec55aebdf",
   "metadata": {},
   "source": [
    "## 2. Mutable References In const functions\n",
    "### A. Rust Version < v1.75.0 (e.g. 1.74.0)"
   ]
  },
  {
   "cell_type": "markdown",
   "id": "038db3a0-fadf-4b9e-8c4c-aaffbadd5379",
   "metadata": {},
   "source": [
    "You would need to remove the `const` context or use `static` methods that don't involve mutable references."
   ]
  },
  {
   "cell_type": "code",
   "execution_count": 8,
   "id": "44130b52-5cec-4ab5-89ec-61bf8fc0ce78",
   "metadata": {},
   "outputs": [],
   "source": [
    "fn get_some_fn() -> fn(&mut String) {\n",
    "    String::clear\n",
    "}\n",
    "\n",
    "fn use_const_fn(_f: fn(&mut String)) {\n",
    "    ()\n",
    "}\n",
    "\n",
    "fn some_const_fn() {\n",
    "    let _f: fn(&mut String) = String::clear;\n",
    "}\n",
    "\n",
    "let my_function = get_some_fn();\n",
    "use_const_fn(my_function);\n",
    "some_const_fn();"
   ]
  },
  {
   "cell_type": "markdown",
   "id": "a0c0d9a5-20c2-482e-93e5-e57eaf2b85f7",
   "metadata": {},
   "source": [
    "### B. Rust v1.75.0"
   ]
  },
  {
   "cell_type": "code",
   "execution_count": 7,
   "id": "99674d8d-ad87-4801-b160-47b77f6775d9",
   "metadata": {},
   "outputs": [],
   "source": [
    "const fn use_const_fn() {\n",
    "    let _f: fn(&mut String) = String::clear;\n",
    "}\n",
    "\n",
    "use_const_fn();"
   ]
  },
  {
   "cell_type": "markdown",
   "id": "bdb68ca1-d8e2-47b4-9e7e-939533278a53",
   "metadata": {},
   "source": [
    "Prior to this version, e.g. **1.74.0**, the compiler would complain about the following:\n",
    "\n",
    "```sh\n",
    "error[E0658]: mutable references are not allowed in constant functions\n",
    "  |\n",
    "2 |     let _f: fn(&mut String) = String::clear;\n",
    "  |         ^^\n",
    "  |\n",
    "  = note: see issue #57349 <https://github.com/rust-lang/rust/issues/57349> for more information\n",
    "\n",
    "For more information about this error, try `rustc --explain E0658`.\n",
    "error: could not compile `file` (bin \"file\") due to previous error\n",
    "```"
   ]
  },
  {
   "cell_type": "markdown",
   "id": "0dd44fff-f7c2-4e0d-b7ff-98a8f367fccc",
   "metadata": {},
   "source": [
    "---"
   ]
  },
  {
   "cell_type": "markdown",
   "id": "20d6ca52-ac56-4cdb-bf3a-70d7b97a79c2",
   "metadata": {},
   "source": [
    "## 3. Exhaustiveness Checking for Half-Open Ranges\n",
    "### A. Rust Version < v1.75.0 (e.g. 1.74.0)"
   ]
  },
  {
   "cell_type": "markdown",
   "id": "9acc48e0-4980-4e56-9b3d-ad480ff3cde7",
   "metadata": {},
   "source": [
    "You would need to add a wildcard `_` to match exhaustively"
   ]
  },
  {
   "cell_type": "code",
   "execution_count": 9,
   "id": "43abb261-80e8-45d8-a6bc-284b69f9276f",
   "metadata": {},
   "outputs": [
    {
     "name": "stdout",
     "output_type": "stream",
     "text": [
      "Value is 42 or smaller!\n"
     ]
    }
   ],
   "source": [
    "fn check_range(value: usize) {\n",
    "    match value {\n",
    "        ..=42 => println!(\"Value is 42 or smaller!\"),\n",
    "        43.. => println!(\"Value is greater than 42\"),\n",
    "        _ => println!(\"Anything else\"),\n",
    "    }\n",
    "}\n",
    "\n",
    "let value = 42;\n",
    "\n",
    "check_range(value);"
   ]
  },
  {
   "cell_type": "markdown",
   "id": "3ef8af99-bf52-4687-85d9-25a2c7f1505a",
   "metadata": {},
   "source": [
    "### B. Rust v1.75.0"
   ]
  },
  {
   "cell_type": "code",
   "execution_count": null,
   "id": "7a656ccd-86b9-4a3a-b1d2-8348efb31168",
   "metadata": {},
   "outputs": [],
   "source": [
    "fn check_range(value: usize) {\n",
    "    match value {\n",
    "        ..=42 => println!(\"Value is 42 or smaller!\"),\n",
    "        43.. => println!(\"Value is greater than 42\"),\n",
    "    }\n",
    "}\n",
    "\n",
    "let value = 42;\n",
    "\n",
    "check_range(value);\n",
    "// It complains about it, not sure why. Let's run it with cargo."
   ]
  },
  {
   "cell_type": "code",
   "execution_count": 5,
   "id": "9fdf69dd-6297-493f-b64d-237c42fd18a9",
   "metadata": {},
   "outputs": [
    {
     "name": "stderr",
     "output_type": "stream",
     "text": [
      "    Finished dev [unoptimized + debuginfo] target(s) in 0.00s\n",
      "     Running `target/debug/half-open-ranges`\n"
     ]
    },
    {
     "name": "stdout",
     "output_type": "stream",
     "text": [
      "Value is 42 or smaller!\n"
     ]
    },
    {
     "data": {
      "text/plain": [
       "()"
      ]
     },
     "execution_count": 5,
     "metadata": {},
     "output_type": "execute_result"
    }
   ],
   "source": [
    "use std::process::{Command, Output, Stdio};\n",
    "\n",
    "// A helper function to execute a shell command from a Rust script\n",
    "fn execute_command(command: &str) -> Result<(), std::io::Error> {\n",
    "    let status = Command::new(\"bash\")\n",
    "        .arg(\"-c\")\n",
    "        .arg(command)\n",
    "        .stderr(Stdio::inherit())\n",
    "        .status()?;\n",
    "\n",
    "    if status.success() {\n",
    "        Ok(())\n",
    "    } else {\n",
    "        Err(std::io::Error::from_raw_os_error(status.code().unwrap_or(1)))\n",
    "    }\n",
    "}\n",
    "\n",
    "let command = \"cd half-open-ranges && cargo +1.75.0 run\";\n",
    "\n",
    "if let Err(err) = execute_command(command) {\n",
    "    eprintln!(\"Error executing command: {}\", err);\n",
    "}"
   ]
  },
  {
   "cell_type": "markdown",
   "id": "4faa51f8-4767-4194-94ca-d5a9f233f456",
   "metadata": {},
   "source": [
    "---"
   ]
  },
  {
   "cell_type": "markdown",
   "id": "ad7ccc7d-6da9-44f8-bba0-e6e463b2118a",
   "metadata": {},
   "source": [
    "## 4. `char` has the same size and alignment as `u32` on all platforms."
   ]
  },
  {
   "cell_type": "markdown",
   "id": "bfdd6e47-4b7b-4651-b28d-dd10db132bf3",
   "metadata": {},
   "source": [
    "The following was not guaranteed on all platforms."
   ]
  },
  {
   "cell_type": "code",
   "execution_count": 11,
   "id": "f7ce1657-2376-4820-9d67-00740b501da5",
   "metadata": {},
   "outputs": [
    {
     "name": "stdout",
     "output_type": "stream",
     "text": [
      "Size of char: 4 bytes\n",
      "Size of u32: 4 bytes\n"
     ]
    }
   ],
   "source": [
    "use std::alloc::Layout;\n",
    "use std::mem;\n",
    "\n",
    "// Assuming a platform where char is 4 bytes (UTF-32)\n",
    "assert_eq!(Layout::new::<char>(), Layout::new::<u32>());\n",
    "\n",
    "// However, when dealing with UTF-16 encoding, char could be 2 bytes\n",
    "assert_ne!(Layout::new::<char>(), Layout::new::<u16>());\n",
    "\n",
    "assert_eq!(mem::size_of::<char>(), mem::size_of::<u32>());\n",
    "\n",
    "println!(\"Size of char: {} bytes\", mem::size_of::<char>());\n",
    "println!(\"Size of u32: {} bytes\", mem::size_of::<u32>());"
   ]
  },
  {
   "cell_type": "markdown",
   "id": "ef1f8aa1-4700-42e9-96b9-6157208260ae",
   "metadata": {},
   "source": [
    "---"
   ]
  },
  {
   "cell_type": "markdown",
   "id": "aea66ecf-13e7-455f-9c5f-41c1fe2653a0",
   "metadata": {},
   "source": [
    "## 5. Allow partially moved values in a `match` statement\n",
    "### A. Rust Version < v1.75.0 (e.g. 1.74.0)"
   ]
  },
  {
   "cell_type": "markdown",
   "id": "2e1224e7-142d-4a84-85c7-3d2ecf5bbb37",
   "metadata": {},
   "source": [
    "The following was not allowed in versions prior to 1.75.0"
   ]
  },
  {
   "cell_type": "code",
   "execution_count": 16,
   "id": "3d975745-e2f6-45e9-b1f7-a83f4177cc8f",
   "metadata": {},
   "outputs": [
    {
     "ename": "Error",
     "evalue": "use of partially moved value: `foo`",
     "output_type": "error",
     "traceback": [
      "\u001b[31m[E0382] Error:\u001b[0m use of partially moved value: `foo`",
      "   \u001b[38;5;246m╭\u001b[0m\u001b[38;5;246m─\u001b[0m\u001b[38;5;246m[\u001b[0mcommand_16:1:1\u001b[38;5;246m]\u001b[0m",
      "   \u001b[38;5;246m│\u001b[0m",
      " \u001b[38;5;246m3 │\u001b[0m \u001b[38;5;249ml\u001b[0m\u001b[38;5;249me\u001b[0m\u001b[38;5;249mt\u001b[0m\u001b[38;5;249m \u001b[0m\u001b[38;5;249my\u001b[0m\u001b[38;5;249m \u001b[0m\u001b[38;5;249m=\u001b[0m\u001b[38;5;249m \u001b[0m\u001b[38;5;54mf\u001b[0m\u001b[38;5;54mo\u001b[0m\u001b[38;5;54mo\u001b[0m\u001b[38;5;54m.\u001b[0m\u001b[38;5;54m1\u001b[0m\u001b[38;5;249m;\u001b[0m",
      " \u001b[38;5;240m  │\u001b[0m         \u001b[38;5;54m─\u001b[0m\u001b[38;5;54m─\u001b[0m\u001b[38;5;54m┬\u001b[0m\u001b[38;5;54m─\u001b[0m\u001b[38;5;54m─\u001b[0m  ",
      " \u001b[38;5;240m  │\u001b[0m           \u001b[38;5;54m╰\u001b[0m\u001b[38;5;54m─\u001b[0m\u001b[38;5;54m─\u001b[0m\u001b[38;5;54m─\u001b[0m\u001b[38;5;54m─\u001b[0m value partially moved here",
      " \u001b[38;5;240m  │\u001b[0m ",
      " \u001b[38;5;246m5 │\u001b[0m \u001b[38;5;249mm\u001b[0m\u001b[38;5;249ma\u001b[0m\u001b[38;5;249mt\u001b[0m\u001b[38;5;249mc\u001b[0m\u001b[38;5;249mh\u001b[0m\u001b[38;5;249m \u001b[0m\u001b[38;5;100mf\u001b[0m\u001b[38;5;100mo\u001b[0m\u001b[38;5;100mo\u001b[0m\u001b[38;5;249m \u001b[0m\u001b[38;5;249m{\u001b[0m",
      " \u001b[38;5;240m  │\u001b[0m       \u001b[38;5;100m─\u001b[0m\u001b[38;5;100m┬\u001b[0m\u001b[38;5;100m─\u001b[0m  ",
      " \u001b[38;5;240m  │\u001b[0m        \u001b[38;5;100m╰\u001b[0m\u001b[38;5;100m─\u001b[0m\u001b[38;5;100m─\u001b[0m\u001b[38;5;100m─\u001b[0m value used here after partial move",
      "\u001b[38;5;246m───╯\u001b[0m"
     ]
    }
   ],
   "source": [
    "let foo = (Box::new(27), Box::new(42));\n",
    "let x = foo.0;\n",
    "let y = foo.1;\n",
    "\n",
    "match foo {\n",
    "    (_, _) => {\n",
    "        println!(\"The sun of x and y is: {:?}\", *x + *y);\n",
    "    }\n",
    "}"
   ]
  },
  {
   "cell_type": "markdown",
   "id": "0cd2cccd-b1b8-45d1-bc96-aa0075d868df",
   "metadata": {},
   "source": [
    "### B. Rust v1.75.0"
   ]
  },
  {
   "cell_type": "code",
   "execution_count": 20,
   "id": "f61e009c-1645-462d-851d-83fe294f223d",
   "metadata": {},
   "outputs": [
    {
     "name": "stderr",
     "output_type": "stream",
     "text": [
      "    Finished dev [unoptimized + debuginfo] target(s) in 0.01s\n",
      "     Running `target/debug/partially-moved-values`\n"
     ]
    },
    {
     "name": "stdout",
     "output_type": "stream",
     "text": [
      "The sun of x and y is: 69\n"
     ]
    },
    {
     "data": {
      "text/plain": [
       "()"
      ]
     },
     "execution_count": 20,
     "metadata": {},
     "output_type": "execute_result"
    }
   ],
   "source": [
    "let command = \"cd partially-moved-values && cargo +1.75.0 run\";\n",
    "\n",
    "if let Err(err) = execute_command(command) {\n",
    "    eprintln!(\"Error executing command: {}\", err);\n",
    "}"
   ]
  },
  {
   "cell_type": "markdown",
   "id": "6e649f37-2da7-4332-813a-460db4323cef",
   "metadata": {},
   "source": [
    "Here is a simple memory layout of what is happening under the hood.\n",
    "![memory layout](https://pbs.twimg.com/media/GDbtB0kXgAA6MRE?format=jpg&name=medium)"
   ]
  },
  {
   "cell_type": "markdown",
   "id": "4d26b7ac-fb6d-482b-af16-b1b4258391b2",
   "metadata": {},
   "source": [
    "---"
   ]
  },
  {
   "cell_type": "markdown",
   "id": "b2dbbb68-e7d7-442e-8506-c8bede2a3ebf",
   "metadata": {},
   "source": [
    "## 6. add notes about non-compliant FP behavior\n",
    "Just documentation about non-compliant FP behavior on 32bit x86 targets."
   ]
  },
  {
   "cell_type": "markdown",
   "id": "08dfa1a5-6601-4f96-a3df-8abe4b6ad411",
   "metadata": {},
   "source": [
    "---"
   ]
  },
  {
   "cell_type": "markdown",
   "id": "d314c7aa-56fd-4422-82c6-8c40e8b3f524",
   "metadata": {},
   "source": [
    "## 7. Stabilize Ratified RISC-V Target Features\n",
    "Rust Stabilization on RISC-V Based IoT devices."
   ]
  },
  {
   "cell_type": "markdown",
   "id": "289fb987-352b-4294-9c0b-f6842057db0c",
   "metadata": {},
   "source": [
    "---"
   ]
  },
  {
   "cell_type": "markdown",
   "id": "13df8db5-b4b9-47b4-ad02-e948f5375b2f",
   "metadata": {},
   "source": [
    "## 8. Rework negative coherence to properly consider impls that only partly overlap.\n",
    "Compiler shenanigans related to partially overlapping impls you don't need to learn about it."
   ]
  },
  {
   "cell_type": "markdown",
   "id": "f04ce93e-ab47-4c15-bcc6-6fb7ba34668d",
   "metadata": {},
   "source": [
    "---"
   ]
  },
  {
   "cell_type": "markdown",
   "id": "c076aeea-3d07-4118-be42-cd8ec4402a6e",
   "metadata": {},
   "source": [
    "## 9. Bump `COINDUCTIVE_OVERLAP_IN_COHERENCE` to deny, and warn in dependencies.\n",
    "### A. Rust Version < v1.75.0 (e.g. 1.74.0)"
   ]
  },
  {
   "cell_type": "markdown",
   "id": "cc60e447-b304-439c-9f73-0a0297c9612c",
   "metadata": {},
   "source": [
    "This feature is related to the coherence rules for trait implementations. Specifically, it addresses the potential future breakage when implementing `PartialEq<Interval<_>>` for `Interval<_>`."
   ]
  },
  {
   "cell_type": "code",
   "execution_count": null,
   "id": "22b60095-963e-4843-a25a-74a58bfa8864",
   "metadata": {},
   "outputs": [],
   "source": [
    "use std::cmp::Ordering;\n",
    "use std::marker::PhantomData;\n",
    "\n",
    "#[derive(PartialEq, Default)]\n",
    "pub(crate) struct Interval<T>(PhantomData<T>);\n",
    "\n",
    "impl<T, Q> PartialEq<Q> for Interval<T>\n",
    "where\n",
    "    Q: PartialOrd,\n",
    "{\n",
    "    fn eq(&self, _: &Q) -> bool {\n",
    "        // For simplicity, let's assume equality if the underlying type T is comparable to Q\n",
    "        true\n",
    "    }\n",
    "}\n",
    "\n",
    "impl<T, Q> PartialOrd<Q> for Interval<T>\n",
    "where\n",
    "    Q: PartialOrd,\n",
    "{\n",
    "    fn partial_cmp(&self, _: &Q) -> Option<Ordering> {\n",
    "        // For simplicity, let's assume the ordering is always equal for PhantomData<T>\n",
    "        Some(Ordering::Equal)\n",
    "    }\n",
    "}\n",
    "\n",
    "let interval1 = Interval::<u32>::default();\n",
    "let interval2 = Interval::<u32>::default();\n",
    "\n",
    "if interval1 == interval2 {\n",
    "    println!(\"Intervals are equal!\");\n",
    "}"
   ]
  },
  {
   "cell_type": "markdown",
   "id": "11915dce-9fe7-4a4d-bff8-49d3f62cf3a8",
   "metadata": {},
   "source": [
    "In this example, we have a `PartialEq` implementation for `Interval<T>` where `T` can be borrowed as `Q`, and `Q` must be `PartialOrd`. The lint is warning that this implementation might cause issues in the future, especially if Rust decides to make `Interval<_>: PartialOrd` hold in future releases, causing the implementations to overlap.\n",
    "\n",
    "This would cause a warning in 1.74.0:"
   ]
  },
  {
   "cell_type": "code",
   "execution_count": 37,
   "id": "a5a66b82-5824-46eb-adf1-43ba4a4db097",
   "metadata": {},
   "outputs": [
    {
     "name": "stderr",
     "output_type": "stream",
     "text": [
      "   Compiling coinductive_overlap_in_coherence v0.1.0 (/home/mahmoud/Desktop/Rust/rust-releases/1.75/coinductive_overlap_in_coherence)\n",
      "warning: implementations of `PartialEq<Interval<_>>` for `Interval<_>` will conflict in the future\n",
      " --> src/main.rs:7:1\n",
      "  |\n",
      "4 | #[derive(PartialEq, Default)]\n",
      "  |          --------- the second impl is here\n",
      "...\n",
      "7 | impl<T, Q> PartialEq<Q> for Interval<T>\n",
      "  | ^^^^^^^^^^^^^^^^^^^^^^^^^^^^^^^^^^^^^^^ the first impl is here\n",
      "  |\n",
      "  = warning: this was previously accepted by the compiler but is being phased out; it will become a hard error in a future release!\n",
      "  = note: for more information, see issue #114040 <https://github.com/rust-lang/rust/issues/114040>\n",
      "  = note: impls that are not considered to overlap may be considered to overlap in the future\n",
      "  = note: `Interval<_>: PartialOrd` may be considered to hold in future releases, causing the impls to overlap\n",
      "  = note: `#[warn(coinductive_overlap_in_coherence)]` on by default\n",
      "\n",
      "warning: `coinductive_overlap_in_coherence` (bin \"coinductive_overlap_in_coherence\") generated 1 warning\n",
      "    Finished dev [unoptimized + debuginfo] target(s) in 0.27s\n",
      "     Running `target/debug/coinductive_overlap_in_coherence`\n"
     ]
    },
    {
     "name": "stdout",
     "output_type": "stream",
     "text": [
      "Intervals are equal!\n"
     ]
    },
    {
     "data": {
      "text/plain": [
       "()"
      ]
     },
     "execution_count": 37,
     "metadata": {},
     "output_type": "execute_result"
    }
   ],
   "source": [
    "let command = \"cd coinductive_overlap_in_coherence && cargo +1.74.0 run\";\n",
    "\n",
    "if let Err(err) = execute_command(command) {\n",
    "    eprintln!(\"Error executing command: {}\", err);\n",
    "}"
   ]
  },
  {
   "cell_type": "markdown",
   "id": "d3f597d8-4b47-4cc1-9732-ee73ce44239b",
   "metadata": {},
   "source": [
    "### B. Rust v1.75.0\n",
    "The same program would cause an error in 1.75.0"
   ]
  },
  {
   "cell_type": "code",
   "execution_count": 38,
   "id": "149c8df3-ac8b-4369-9ddf-7afd26fcaa7d",
   "metadata": {},
   "outputs": [
    {
     "ename": "Error",
     "evalue": "implementations of `PartialEq<Interval<_>>` for `Interval<_>` will conflict in the future",
     "output_type": "error",
     "traceback": [
      "\u001b[31m[coinductive_overlap_in_coherence] Error:\u001b[0m implementations of `PartialEq<Interval<_>>` for `Interval<_>` will conflict in the future",
      "   \u001b[38;5;246m╭\u001b[0m\u001b[38;5;246m─\u001b[0m\u001b[38;5;246m[\u001b[0mcommand_38:1:1\u001b[38;5;246m]\u001b[0m",
      "   \u001b[38;5;246m│\u001b[0m",
      " \u001b[38;5;246m4 │\u001b[0m     \u001b[38;5;249m#\u001b[0m\u001b[38;5;249m[\u001b[0m\u001b[38;5;249md\u001b[0m\u001b[38;5;249me\u001b[0m\u001b[38;5;249mr\u001b[0m\u001b[38;5;249mi\u001b[0m\u001b[38;5;249mv\u001b[0m\u001b[38;5;249me\u001b[0m\u001b[38;5;249m(\u001b[0m\u001b[38;5;100mP\u001b[0m\u001b[38;5;100ma\u001b[0m\u001b[38;5;100mr\u001b[0m\u001b[38;5;100mt\u001b[0m\u001b[38;5;100mi\u001b[0m\u001b[38;5;100ma\u001b[0m\u001b[38;5;100ml\u001b[0m\u001b[38;5;100mE\u001b[0m\u001b[38;5;100mq\u001b[0m\u001b[38;5;249m,\u001b[0m\u001b[38;5;249m \u001b[0m\u001b[38;5;249mD\u001b[0m\u001b[38;5;249me\u001b[0m\u001b[38;5;249mf\u001b[0m\u001b[38;5;249ma\u001b[0m\u001b[38;5;249mu\u001b[0m\u001b[38;5;249ml\u001b[0m\u001b[38;5;249mt\u001b[0m\u001b[38;5;249m)\u001b[0m\u001b[38;5;249m]\u001b[0m",
      " \u001b[38;5;240m  │\u001b[0m              \u001b[38;5;100m─\u001b[0m\u001b[38;5;100m─\u001b[0m\u001b[38;5;100m─\u001b[0m\u001b[38;5;100m─\u001b[0m\u001b[38;5;100m┬\u001b[0m\u001b[38;5;100m─\u001b[0m\u001b[38;5;100m─\u001b[0m\u001b[38;5;100m─\u001b[0m\u001b[38;5;100m─\u001b[0m  ",
      " \u001b[38;5;240m  │\u001b[0m                  \u001b[38;5;100m╰\u001b[0m\u001b[38;5;100m─\u001b[0m\u001b[38;5;100m─\u001b[0m\u001b[38;5;100m─\u001b[0m\u001b[38;5;100m─\u001b[0m\u001b[38;5;100m─\u001b[0m\u001b[38;5;100m─\u001b[0m the second impl is here",
      " \u001b[38;5;240m  │\u001b[0m ",
      " \u001b[38;5;246m7 │\u001b[0m \u001b[38;5;54m╭\u001b[0m\u001b[38;5;54m─\u001b[0m\u001b[38;5;54m▶\u001b[0m\u001b[38;5;54m \u001b[0m\u001b[38;5;54mi\u001b[0m\u001b[38;5;54mm\u001b[0m\u001b[38;5;54mp\u001b[0m\u001b[38;5;54ml\u001b[0m\u001b[38;5;54m<\u001b[0m\u001b[38;5;54mT\u001b[0m\u001b[38;5;54m,\u001b[0m\u001b[38;5;54m \u001b[0m\u001b[38;5;54mQ\u001b[0m\u001b[38;5;54m>\u001b[0m\u001b[38;5;54m \u001b[0m\u001b[38;5;54mP\u001b[0m\u001b[38;5;54ma\u001b[0m\u001b[38;5;54mr\u001b[0m\u001b[38;5;54mt\u001b[0m\u001b[38;5;54mi\u001b[0m\u001b[38;5;54ma\u001b[0m\u001b[38;5;54ml\u001b[0m\u001b[38;5;54mE\u001b[0m\u001b[38;5;54mq\u001b[0m\u001b[38;5;54m<\u001b[0m\u001b[38;5;54mQ\u001b[0m\u001b[38;5;54m>\u001b[0m\u001b[38;5;54m \u001b[0m\u001b[38;5;54mf\u001b[0m\u001b[38;5;54mo\u001b[0m\u001b[38;5;54mr\u001b[0m\u001b[38;5;54m \u001b[0m\u001b[38;5;54mI\u001b[0m\u001b[38;5;54mn\u001b[0m\u001b[38;5;54mt\u001b[0m\u001b[38;5;54me\u001b[0m\u001b[38;5;54mr\u001b[0m\u001b[38;5;54mv\u001b[0m\u001b[38;5;54ma\u001b[0m\u001b[38;5;54ml\u001b[0m\u001b[38;5;54m<\u001b[0m\u001b[38;5;54mT\u001b[0m\u001b[38;5;54m>\u001b[0m",
      " \u001b[38;5;240m  ┆\u001b[0m \u001b[38;5;54m┆\u001b[0m   ",
      " \u001b[38;5;246m9 │\u001b[0m \u001b[38;5;54m├\u001b[0m\u001b[38;5;54m─\u001b[0m\u001b[38;5;54m▶\u001b[0m\u001b[38;5;54m \u001b[0m\u001b[38;5;54m \u001b[0m\u001b[38;5;54m \u001b[0m\u001b[38;5;54m \u001b[0m\u001b[38;5;54m \u001b[0m\u001b[38;5;54mQ\u001b[0m\u001b[38;5;54m:\u001b[0m\u001b[38;5;54m \u001b[0m\u001b[38;5;54mP\u001b[0m\u001b[38;5;54ma\u001b[0m\u001b[38;5;54mr\u001b[0m\u001b[38;5;54mt\u001b[0m\u001b[38;5;54mi\u001b[0m\u001b[38;5;54ma\u001b[0m\u001b[38;5;54ml\u001b[0m\u001b[38;5;54mO\u001b[0m\u001b[38;5;54mr\u001b[0m\u001b[38;5;54md\u001b[0m\u001b[38;5;54m,\u001b[0m",
      " \u001b[38;5;240m  │\u001b[0m \u001b[38;5;54m│\u001b[0m                        ",
      " \u001b[38;5;240m  │\u001b[0m \u001b[38;5;54m╰\u001b[0m\u001b[38;5;54m─\u001b[0m\u001b[38;5;54m─\u001b[0m\u001b[38;5;54m─\u001b[0m\u001b[38;5;54m─\u001b[0m\u001b[38;5;54m─\u001b[0m\u001b[38;5;54m─\u001b[0m\u001b[38;5;54m─\u001b[0m\u001b[38;5;54m─\u001b[0m\u001b[38;5;54m─\u001b[0m\u001b[38;5;54m─\u001b[0m\u001b[38;5;54m─\u001b[0m\u001b[38;5;54m─\u001b[0m\u001b[38;5;54m─\u001b[0m\u001b[38;5;54m─\u001b[0m\u001b[38;5;54m─\u001b[0m\u001b[38;5;54m─\u001b[0m\u001b[38;5;54m─\u001b[0m\u001b[38;5;54m─\u001b[0m\u001b[38;5;54m─\u001b[0m\u001b[38;5;54m─\u001b[0m\u001b[38;5;54m─\u001b[0m\u001b[38;5;54m─\u001b[0m\u001b[38;5;54m─\u001b[0m\u001b[38;5;54m─\u001b[0m the first impl is here",
      "\u001b[38;5;246m───╯\u001b[0m"
     ]
    },
    {
     "ename": "Error",
     "evalue": "unused variable: `other`",
     "output_type": "error",
     "traceback": [
      "\u001b[31m[unused_variables] Error:\u001b[0m unused variable: `other`"
     ]
    }
   ],
   "source": [
    "use std::cmp::Ordering;\n",
    "use std::marker::PhantomData;\n",
    "\n",
    "#[derive(PartialEq, Default)]\n",
    "pub(crate) struct Interval<T>(PhantomData<T>);\n",
    "\n",
    "impl<T, Q> PartialEq<Q> for Interval<T>\n",
    "where\n",
    "    Q: PartialOrd,\n",
    "{\n",
    "    fn eq(&self, _: &Q) -> bool {\n",
    "        // For simplicity, let's assume equality if the underlying type T is comparable to Q\n",
    "        true\n",
    "    }\n",
    "}\n",
    "\n",
    "impl<T, Q> PartialOrd<Q> for Interval<T>\n",
    "where\n",
    "    Q: PartialOrd,\n",
    "{\n",
    "    fn partial_cmp(&self, _: &Q) -> Option<Ordering> {\n",
    "        // For simplicity, let's assume the ordering is always equal for PhantomData<T>\n",
    "        Some(Ordering::Equal)\n",
    "    }\n",
    "}\n",
    "\n",
    "let interval1 = Interval::<u32>::default();\n",
    "let interval2 = Interval::<u32>::default();\n",
    "\n",
    "if interval1 == interval2 {\n",
    "    println!(\"Intervals are equal!\");\n",
    "}"
   ]
  },
  {
   "cell_type": "markdown",
   "id": "239c000f-02d5-4be2-8aa8-9aa1dc3460b2",
   "metadata": {},
   "source": [
    "---"
   ]
  },
  {
   "cell_type": "markdown",
   "id": "7554e209-6400-47a0-80f6-c4ef8249c603",
   "metadata": {},
   "source": [
    "## 10. Consider alias bounds when computing liveness in NLL.\n",
    "### A. Rust Version < v1.75.0 (e.g. 1.74.0)"
   ]
  },
  {
   "cell_type": "markdown",
   "id": "d310f1aa-ad65-4f1d-8627-4594f40e7d24",
   "metadata": {},
   "source": [
    "This feature addresses improvements in the Non-Lexical Lifetimes (NLL) analysis related to liveness computation. The goal is to make the liveness analysis more accurate, particularly in the presence of aliases, such as opaque types, and to ensure soundness in the computation."
   ]
  },
  {
   "cell_type": "code",
   "execution_count": 11,
   "id": "ac06e484-0e19-49d1-9c6e-98cba7aad4ba",
   "metadata": {},
   "outputs": [
    {
     "ename": "Error",
     "evalue": "cannot borrow `x` as mutable more than once at a time",
     "output_type": "error",
     "traceback": [
      "\u001b[31m[E0499] Error:\u001b[0m cannot borrow `x` as mutable more than once at a time",
      "    \u001b[38;5;246m╭\u001b[0m\u001b[38;5;246m─\u001b[0m\u001b[38;5;246m[\u001b[0mcommand_11:1:1\u001b[38;5;246m]\u001b[0m",
      "    \u001b[38;5;246m│\u001b[0m",
      " \u001b[38;5;246m13 │\u001b[0m \u001b[38;5;249m \u001b[0m\u001b[38;5;249m \u001b[0m\u001b[38;5;249m \u001b[0m\u001b[38;5;249m \u001b[0m\u001b[38;5;249ml\u001b[0m\u001b[38;5;249me\u001b[0m\u001b[38;5;249mt\u001b[0m\u001b[38;5;249m \u001b[0m\u001b[38;5;249m_\u001b[0m\u001b[38;5;249mf\u001b[0m\u001b[38;5;249m1\u001b[0m\u001b[38;5;249m \u001b[0m\u001b[38;5;249m=\u001b[0m\u001b[38;5;249m \u001b[0m\u001b[38;5;249mc\u001b[0m\u001b[38;5;249ma\u001b[0m\u001b[38;5;249mp\u001b[0m\u001b[38;5;249mt\u001b[0m\u001b[38;5;249mu\u001b[0m\u001b[38;5;249mr\u001b[0m\u001b[38;5;249me\u001b[0m\u001b[38;5;249m(\u001b[0m\u001b[38;5;54m&\u001b[0m\u001b[38;5;54mm\u001b[0m\u001b[38;5;54mu\u001b[0m\u001b[38;5;54mt\u001b[0m\u001b[38;5;54m \u001b[0m\u001b[38;5;54mx\u001b[0m\u001b[38;5;249m)\u001b[0m\u001b[38;5;249m;\u001b[0m",
      " \u001b[38;5;240m   │\u001b[0m                       \u001b[38;5;54m─\u001b[0m\u001b[38;5;54m─\u001b[0m\u001b[38;5;54m─\u001b[0m\u001b[38;5;54m┬\u001b[0m\u001b[38;5;54m─\u001b[0m\u001b[38;5;54m─\u001b[0m  ",
      " \u001b[38;5;240m   │\u001b[0m                          \u001b[38;5;54m╰\u001b[0m\u001b[38;5;54m─\u001b[0m\u001b[38;5;54m─\u001b[0m\u001b[38;5;54m─\u001b[0m\u001b[38;5;54m─\u001b[0m first mutable borrow occurs here",
      " \u001b[38;5;246m14 │\u001b[0m \u001b[38;5;249m \u001b[0m\u001b[38;5;249m \u001b[0m\u001b[38;5;249m \u001b[0m\u001b[38;5;249m \u001b[0m\u001b[38;5;249ml\u001b[0m\u001b[38;5;249me\u001b[0m\u001b[38;5;249mt\u001b[0m\u001b[38;5;249m \u001b[0m\u001b[38;5;249m_\u001b[0m\u001b[38;5;249mf\u001b[0m\u001b[38;5;249m2\u001b[0m\u001b[38;5;249m \u001b[0m\u001b[38;5;249m=\u001b[0m\u001b[38;5;249m \u001b[0m\u001b[38;5;249mc\u001b[0m\u001b[38;5;249ma\u001b[0m\u001b[38;5;249mp\u001b[0m\u001b[38;5;249mt\u001b[0m\u001b[38;5;249mu\u001b[0m\u001b[38;5;249mr\u001b[0m\u001b[38;5;249me\u001b[0m\u001b[38;5;249m(\u001b[0m\u001b[38;5;100m&\u001b[0m\u001b[38;5;100mm\u001b[0m\u001b[38;5;100mu\u001b[0m\u001b[38;5;100mt\u001b[0m\u001b[38;5;100m \u001b[0m\u001b[38;5;100mx\u001b[0m\u001b[38;5;249m)\u001b[0m\u001b[38;5;249m;\u001b[0m",
      " \u001b[38;5;240m   │\u001b[0m                       \u001b[38;5;100m─\u001b[0m\u001b[38;5;100m─\u001b[0m\u001b[38;5;100m─\u001b[0m\u001b[38;5;100m┬\u001b[0m\u001b[38;5;100m─\u001b[0m\u001b[38;5;100m─\u001b[0m  ",
      " \u001b[38;5;240m   │\u001b[0m                          \u001b[38;5;100m╰\u001b[0m\u001b[38;5;100m─\u001b[0m\u001b[38;5;100m─\u001b[0m\u001b[38;5;100m─\u001b[0m\u001b[38;5;100m─\u001b[0m second mutable borrow occurs here",
      " \u001b[38;5;240m   │\u001b[0m ",
      " \u001b[38;5;246m18 │\u001b[0m \u001b[38;5;68m}\u001b[0m",
      " \u001b[38;5;240m   │\u001b[0m \u001b[38;5;68m┬\u001b[0m  ",
      " \u001b[38;5;240m   │\u001b[0m \u001b[38;5;68m╰\u001b[0m\u001b[38;5;68m─\u001b[0m\u001b[38;5;68m─\u001b[0m first borrow might be used here, when `_f1` is dropped and runs the destructor for type `impl Captures<'_> + 'static`",
      "\u001b[38;5;246m────╯\u001b[0m"
     ]
    }
   ],
   "source": [
    "// Example trait with a region parameter\n",
    "trait Captures<'a> {}\n",
    "impl<T> Captures<'_> for T {}\n",
    "\n",
    "// Opaque function returning an impl Trait with region capture\n",
    "fn capture<'o>(_: &'o mut ()) -> impl Sized + Captures<'o> + 'static {\n",
    "    // Implementation details\n",
    "    todo!()\n",
    "}\n",
    "\n",
    "// Function using the opaque type with a borrow checker issue\n",
    "fn test_two_mut(mut x: ()) {\n",
    "    let _f1 = capture(&mut x);\n",
    "    let _f2 = capture(&mut x);\n",
    "    // In the fixed version, the liveness analysis considers 'static bound\n",
    "    // and avoids borrow checker errors in certain cases.\n",
    "    //~^ ERROR cannot borrow `x` as mutable more than once at a time\n",
    "}\n",
    "\n",
    "test_two_mut(());"
   ]
  },
  {
   "cell_type": "markdown",
   "id": "ef2cfa47-992b-4111-9a47-01c1fc82221c",
   "metadata": {},
   "source": [
    "In this example, `test_two_mut` calls the `capture` function twice, capturing a mutable reference to `x` both times which would result in an error."
   ]
  },
  {
   "cell_type": "markdown",
   "id": "3f87089b-8e64-4256-9cc4-d2ff9611c574",
   "metadata": {},
   "source": [
    "### B. Rust v1.75.0\n",
    "This would raise the following exception:"
   ]
  },
  {
   "cell_type": "code",
   "execution_count": 10,
   "id": "8f549f65-f143-435e-a11f-ce7326639378",
   "metadata": {},
   "outputs": [
    {
     "name": "stderr",
     "output_type": "stream",
     "text": [
      "    Finished dev [unoptimized + debuginfo] target(s) in 0.05s\n",
      "     Running `target/debug/alias-bounds`\n",
      "thread 'main' panicked at src/main.rs:8:5:\n",
      "not yet implemented\n",
      "stack backtrace:\n",
      "   0: rust_begin_unwind\n",
      "             at /rustc/82e1608dfa6e0b5569232559e3d385fea5a93112/library/std/src/panicking.rs:645:5\n",
      "   1: core::panicking::panic_fmt\n",
      "             at /rustc/82e1608dfa6e0b5569232559e3d385fea5a93112/library/core/src/panicking.rs:72:14\n",
      "   2: core::panicking::panic\n",
      "             at /rustc/82e1608dfa6e0b5569232559e3d385fea5a93112/library/core/src/panicking.rs:127:5\n",
      "   3: alias_bounds::capture\n",
      "             at ./src/main.rs:8:5\n",
      "   4: alias_bounds::test_two_mut\n",
      "             at ./src/main.rs:13:15\n",
      "   5: alias_bounds::main\n",
      "             at ./src/main.rs:21:5\n",
      "   6: core::ops::function::FnOnce::call_once\n",
      "             at /rustc/82e1608dfa6e0b5569232559e3d385fea5a93112/library/core/src/ops/function.rs:250:5\n",
      "note: Some details are omitted, run with `RUST_BACKTRACE=full` for a verbose backtrace.\n",
      "Error executing command: Network is unreachable (os error 101)\n"
     ]
    },
    {
     "data": {
      "text/plain": [
       "()"
      ]
     },
     "execution_count": 10,
     "metadata": {},
     "output_type": "execute_result"
    }
   ],
   "source": [
    "let command = \"cd alias-bounds && cargo +1.75.0 run\";\n",
    "\n",
    "if let Err(err) = execute_command(command) {\n",
    "    eprintln!(\"Error executing command: {}\", err);\n",
    "}"
   ]
  },
  {
   "cell_type": "markdown",
   "id": "bc525a73-6aa0-4095-8f0b-0d7a3cf5f4d7",
   "metadata": {},
   "source": [
    "---"
   ]
  },
  {
   "cell_type": "markdown",
   "id": "2ec8fa2c-5c34-4029-a3cf-5b9b5cf1ab1d",
   "metadata": {},
   "source": [
    "## 11. Add the V (vector) extension to the riscv64-linux-android target spec.\n",
    "RISC-V related enhancements."
   ]
  },
  {
   "cell_type": "markdown",
   "id": "969b93eb-4d32-4520-b24c-0e3e4b302a7b",
   "metadata": {},
   "source": [
    "---"
   ]
  },
  {
   "cell_type": "markdown",
   "id": "07ca25ab-e07f-4b07-a926-63d4a41e261a",
   "metadata": {},
   "source": [
    "## 12. Automatically enable cross-crate inlining for small functions.\n",
    "### A. Rust Version < v1.75.0 (e.g. 1.74.0)\n",
    "In versions prior to 1.75.0, we often add `#[inline]` manually to hint the compiler for inlining optimizations for small functions:"
   ]
  },
  {
   "cell_type": "code",
   "execution_count": 13,
   "id": "a0952cb5-285e-4d8e-8aba-4904e6bd5f41",
   "metadata": {},
   "outputs": [
    {
     "data": {
      "text/plain": [
       "8"
      ]
     },
     "execution_count": 13,
     "metadata": {},
     "output_type": "execute_result"
    }
   ],
   "source": [
    "#[inline]\n",
    "fn add(a: i32, b: i32) -> i32 {\n",
    "    a + b\n",
    "}\n",
    "\n",
    "let result = add(3, 5);\n",
    "result"
   ]
  },
  {
   "cell_type": "markdown",
   "id": "9d888e76-af14-40cb-b4e7-cf754324a621",
   "metadata": {},
   "source": [
    "### B. Rust v1.75.0\n",
    "Implicit `#[inline]`:"
   ]
  },
  {
   "cell_type": "code",
   "execution_count": 14,
   "id": "030f5b1b-6c43-4eb9-bebe-db78eaa445d8",
   "metadata": {},
   "outputs": [
    {
     "data": {
      "text/plain": [
       "8"
      ]
     },
     "execution_count": 14,
     "metadata": {},
     "output_type": "execute_result"
    }
   ],
   "source": [
    "fn add(a: i32, b: i32) -> i32 {\n",
    "    a + b\n",
    "}\n",
    "\n",
    "let result = add(3, 5);\n",
    "result"
   ]
  },
  {
   "cell_type": "markdown",
   "id": "5a0f9e5f-fb08-47e3-8464-aa2ad60f64d6",
   "metadata": {},
   "source": [
    "---"
   ]
  },
  {
   "cell_type": "markdown",
   "id": "e87c69ed-fc1c-4628-a4fc-360b6b566713",
   "metadata": {},
   "source": [
    "## 13. Added several new tier 3 targets:\n",
    "- `csky-unknown-linux-gnuabiv2hf`\n",
    "- `i586-unknown-netbsd`\n",
    "- `mipsel-unknown-netbsd`"
   ]
  },
  {
   "cell_type": "markdown",
   "id": "10887312-58e4-4ff1-a5e0-d51bae0152de",
   "metadata": {},
   "source": [
    "---"
   ]
  },
  {
   "cell_type": "markdown",
   "id": "a709474e-7d8b-4088-ba89-d72d6e53299c",
   "metadata": {},
   "source": [
    "## 14. Implement `Default` for ExitCode.\n",
    "### A. Rust Version < v1.75.0 (e.g. 1.74.0)"
   ]
  },
  {
   "cell_type": "code",
   "execution_count": 25,
   "id": "fd2355b3-75fd-4936-9658-995c2f157e88",
   "metadata": {},
   "outputs": [
    {
     "name": "stderr",
     "output_type": "stream",
     "text": [
      "   Compiling default-exitcode v0.1.0 (/home/mahmoud/Desktop/Rust/rust-releases/1.75/default-exitcode)\n",
      "error[E0277]: the trait bound `ExitCode: Default` is not satisfied\n",
      "  --> src/main.rs:12:41\n",
      "   |\n",
      "12 |     let exit_code: ExitCode = cmd_ops().unwrap_or_default();\n",
      "   |                                         ^^^^^^^^^^^^^^^^^ the trait `Default` is not implemented for `ExitCode`\n",
      "   |\n",
      "note: required by a bound in `Result::<T, E>::unwrap_or_default`\n",
      "  --> /rustc/79e9716c980570bfd1f666e3b16ac583f0168962/library/core/src/result.rs:1108:5\n",
      "\n",
      "For more information about this error, try `rustc --explain E0277`.\n",
      "error: could not compile `default-exitcode` (bin \"default-exitcode\") due to previous error\n",
      "Error executing command: Network is unreachable (os error 101)\n"
     ]
    },
    {
     "data": {
      "text/plain": [
       "()"
      ]
     },
     "execution_count": 25,
     "metadata": {},
     "output_type": "execute_result"
    }
   ],
   "source": [
    "let command = \"cd default-exitcode && cargo +1.74.0 run\";\n",
    "\n",
    "if let Err(err) = execute_command(command) {\n",
    "    eprintln!(\"Error executing command: {}\", err);\n",
    "}"
   ]
  },
  {
   "cell_type": "markdown",
   "id": "f7a5b785-d6a4-41e4-8e74-e30bc33ee40b",
   "metadata": {},
   "source": [
    "### B. Rust v1.75.0"
   ]
  },
  {
   "cell_type": "code",
   "execution_count": 22,
   "id": "4d1e70fc-1511-422c-805b-fde3722a5ae5",
   "metadata": {},
   "outputs": [
    {
     "data": {
      "text/plain": [
       "Ok(ExitCode(unix_exit_status(0)))"
      ]
     },
     "execution_count": 22,
     "metadata": {},
     "output_type": "execute_result"
    }
   ],
   "source": [
    "use std::process::ExitCode;\n",
    "\n",
    "fn cmd_ops() -> Result<ExitCode, ()> {\n",
    "    if true {\n",
    "        Ok(ExitCode::SUCCESS)\n",
    "    } else {\n",
    "        Err(())\n",
    "    }\n",
    "}\n",
    "\n",
    "fn main() -> Result<ExitCode, ()> {\n",
    "    let exit_code: ExitCode = cmd_ops().unwrap_or_default();\n",
    "\n",
    "    Ok(exit_code)\n",
    "}\n",
    "\n",
    "main()"
   ]
  },
  {
   "cell_type": "markdown",
   "id": "5ab88f64-7cea-49fc-bc05-c506a6f6f735",
   "metadata": {},
   "source": [
    "---"
   ]
  },
  {
   "cell_type": "markdown",
   "id": "a028f276-94df-4426-99ff-a882fe29798a",
   "metadata": {},
   "source": [
    "## 15. Implement `Not`, `Bit{And,Or}{,Assign}` for IP addresses.\n",
    "### A. Rust Version < v1.75.0 (e.g. 1.74.0)"
   ]
  },
  {
   "cell_type": "code",
   "execution_count": 27,
   "id": "56e09710-34b9-4213-8df0-5a085eae2e15",
   "metadata": {},
   "outputs": [
    {
     "name": "stdout",
     "output_type": "stream",
     "text": [
      "0.0.0.0 | 1.1.1.1 = 1.1.1.1\n",
      "!0.0.0.0 = 255.255.255.255\n"
     ]
    }
   ],
   "source": [
    "use std::net::Ipv4Addr;\n",
    "use std::ops::{BitOr, Not};\n",
    "\n",
    "#[derive(Clone, Copy)]\n",
    "struct MyIpv4Addr(Ipv4Addr);\n",
    "\n",
    "impl Not for MyIpv4Addr {\n",
    "    type Output = MyIpv4Addr;\n",
    "\n",
    "    fn not(self) -> MyIpv4Addr {\n",
    "        MyIpv4Addr(Ipv4Addr::new(\n",
    "            !self.0.octets()[0],\n",
    "            !self.0.octets()[1],\n",
    "            !self.0.octets()[2],\n",
    "            !self.0.octets()[3],\n",
    "        ))\n",
    "    }\n",
    "}\n",
    "\n",
    "impl BitOr<MyIpv4Addr> for MyIpv4Addr {\n",
    "    type Output = MyIpv4Addr;\n",
    "\n",
    "    fn bitor(self, other: MyIpv4Addr) -> MyIpv4Addr {\n",
    "        MyIpv4Addr(Ipv4Addr::new(\n",
    "            self.0.octets()[0] | other.0.octets()[0],\n",
    "            self.0.octets()[1] | other.0.octets()[1],\n",
    "            self.0.octets()[2] | other.0.octets()[2],\n",
    "            self.0.octets()[3] | other.0.octets()[3],\n",
    "        ))\n",
    "    }\n",
    "}\n",
    "\n",
    "let ip1 = MyIpv4Addr(Ipv4Addr::new(0, 0, 0, 0));\n",
    "let ip2 = MyIpv4Addr(Ipv4Addr::new(1, 1, 1, 1));\n",
    "\n",
    "let result_or = ip1 | ip2;\n",
    "let result_not = !ip1;\n",
    "\n",
    "println!(\"{:?} | {:?} = {:?}\", ip1.0, ip2.0, result_or.0);\n",
    "println!(\"!{:?} = {:?}\", ip1.0, result_not.0);"
   ]
  },
  {
   "cell_type": "markdown",
   "id": "387118c7-856b-4aef-a03a-ba18fcdf5362",
   "metadata": {},
   "source": [
    "### B. Rust v1.75.0"
   ]
  },
  {
   "cell_type": "code",
   "execution_count": 28,
   "id": "648cdb4e-2904-4477-82d1-5eb3ccbd94a4",
   "metadata": {},
   "outputs": [
    {
     "name": "stdout",
     "output_type": "stream",
     "text": [
      "0.0.0.0 | 1.1.1.1 = 1.1.1.1\n",
      "!0.0.0.0 = 255.255.255.255\n"
     ]
    }
   ],
   "source": [
    "use std::net::Ipv4Addr;\n",
    "\n",
    "let ip1 = Ipv4Addr::new(0, 0, 0, 0);\n",
    "let ip2 = Ipv4Addr::new(1, 1, 1, 1);\n",
    "\n",
    "let result_or = ip1 | ip2;\n",
    "let result_not = !&ip1;\n",
    "\n",
    "println!(\"{:?} | {:?} = {:?}\", ip1, ip2, result_or);\n",
    "println!(\"!{:?} = {:?}\", ip1, result_not);"
   ]
  },
  {
   "cell_type": "markdown",
   "id": "5092a77f-757b-4b3b-aff9-5bb793a1ca23",
   "metadata": {},
   "source": [
    "### TODO"
   ]
  },
  {
   "cell_type": "markdown",
   "id": "b15b2535-3bde-43a0-af16-f35f170c5715",
   "metadata": {},
   "source": [
    "### Source\n",
    "[github.com/rust-lang/rust/RELEASES](https://github.com/rust-lang/rust/blob/master/RELEASES.md#version-1750-2023-12-28)"
   ]
  },
  {
   "cell_type": "markdown",
   "id": "3a2bb451-8117-4316-b7e1-c8c9277b796a",
   "metadata": {},
   "source": [
    "---\n",
    "---"
   ]
  }
 ],
 "metadata": {
  "kernelspec": {
   "display_name": "Rust",
   "language": "rust",
   "name": "rust"
  },
  "language_info": {
   "codemirror_mode": "rust",
   "file_extension": ".rs",
   "mimetype": "text/rust",
   "name": "Rust",
   "pygment_lexer": "rust",
   "version": ""
  }
 },
 "nbformat": 4,
 "nbformat_minor": 5
}
